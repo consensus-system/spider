{
 "cells": [
  {
   "cell_type": "code",
   "execution_count": null,
   "id": "initial_id",
   "metadata": {
    "collapsed": true
   },
   "outputs": [],
   "source": [
    ""
   ]
  },
  {
   "metadata": {
    "ExecuteTime": {
     "end_time": "2024-10-17T09:05:37.810707Z",
     "start_time": "2024-10-17T09:05:36.047241Z"
    }
   },
   "cell_type": "code",
   "source": [
    "from snownlp import SnowNLP\n",
    "\n",
    "text = '地产，我都告诉我爸[再见]别买了，买了宋都50万赔完了，9月又买了亚盛发展[再见]，就是喜欢地产，服了，直接赔光得了[再见]'\n",
    "s = SnowNLP(text)\n",
    "print(s.sentiments)  # 返回情感倾向的概率值，接近1表示正面，接近0表示负面"
   ],
   "id": "aa5f9761c211414",
   "outputs": [
    {
     "name": "stdout",
     "output_type": "stream",
     "text": [
      "0.6299556625248444\n"
     ]
    }
   ],
   "execution_count": 2
  }
 ],
 "metadata": {
  "kernelspec": {
   "display_name": "Python 3",
   "language": "python",
   "name": "python3"
  },
  "language_info": {
   "codemirror_mode": {
    "name": "ipython",
    "version": 2
   },
   "file_extension": ".py",
   "mimetype": "text/x-python",
   "name": "python",
   "nbconvert_exporter": "python",
   "pygments_lexer": "ipython2",
   "version": "2.7.6"
  }
 },
 "nbformat": 4,
 "nbformat_minor": 5
}

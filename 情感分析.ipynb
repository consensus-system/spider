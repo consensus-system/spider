{
 "cells": [
  {
   "cell_type": "code",
   "execution_count": null,
   "id": "initial_id",
   "metadata": {
    "collapsed": true
   },
   "outputs": [],
   "source": [
    ""
   ]
  },
  {
   "metadata": {
    "ExecuteTime": {
     "end_time": "2024-10-17T06:35:00.473050Z",
     "start_time": "2024-10-17T06:35:00.452028Z"
    }
   },
   "cell_type": "code",
   "source": [
    "from snownlp import SnowNLP\n",
    "\n",
    "text = '未来2月大涨的板块，消费电子，汽车配件，医药，满仓就是干'\n",
    "s = SnowNLP(text)\n",
    "print(s.sentiments)  # 返回情感倾向的概率值，接近1表示正面，接近0表示负面"
   ],
   "id": "aa5f9761c211414",
   "outputs": [
    {
     "name": "stdout",
     "output_type": "stream",
     "text": [
      "0.4253548657162337\n"
     ]
    }
   ],
   "execution_count": 28
  }
 ],
 "metadata": {
  "kernelspec": {
   "display_name": "Python 3",
   "language": "python",
   "name": "python3"
  },
  "language_info": {
   "codemirror_mode": {
    "name": "ipython",
    "version": 2
   },
   "file_extension": ".py",
   "mimetype": "text/x-python",
   "name": "python",
   "nbconvert_exporter": "python",
   "pygments_lexer": "ipython2",
   "version": "2.7.6"
  }
 },
 "nbformat": 4,
 "nbformat_minor": 5
}
